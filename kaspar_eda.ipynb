{
 "cells": [
  {
   "cell_type": "code",
   "execution_count": 1,
   "metadata": {},
   "outputs": [],
   "source": [
    "import pandas as pd\n",
    "import os\n",
    "#import sqlite3\n",
    "import psycopg2\n",
    "import csv"
   ]
  },
  {
   "cell_type": "code",
   "execution_count": 2,
   "metadata": {},
   "outputs": [
    {
     "data": {
      "text/plain": [
       "['subjects.csv',\n",
       " 'subject_memberships.csv',\n",
       " 'rooms.csv',\n",
       " 'schedules.csv',\n",
       " 'sections.csv',\n",
       " 'courses.csv',\n",
       " 'course_offerings.csv',\n",
       " 'instructors.csv',\n",
       " 'teachings.csv',\n",
       " 'grade_distributions.csv']"
      ]
     },
     "execution_count": 2,
     "metadata": {},
     "output_type": "execute_result"
    }
   ],
   "source": [
    "file_names = []\n",
    "for (dirpath, dirnames, filenames) in os.walk('.'):\n",
    "    file_names.extend(filenames)\n",
    "    break\n",
    "    \n",
    "file_names = list(filter(lambda x:'csv' in x, filenames))\n",
    "file_names"
   ]
  },
  {
   "cell_type": "code",
   "execution_count": 3,
   "metadata": {},
   "outputs": [
    {
     "name": "stdout",
     "output_type": "stream",
     "text": [
      "subjects.csv\n",
      "subject_memberships.csv\n",
      "rooms.csv\n",
      "schedules.csv\n",
      "sections.csv\n",
      "courses.csv\n",
      "course_offerings.csv\n",
      "instructors.csv\n",
      "teachings.csv\n",
      "grade_distributions.csv\n"
     ]
    },
    {
     "data": {
      "text/plain": [
       "10"
      ]
     },
     "execution_count": 3,
     "metadata": {},
     "output_type": "execute_result"
    }
   ],
   "source": [
    "tables = {}\n",
    "for table in file_names:\n",
    "    print(table)\n",
    "    with open(table) as f:\n",
    "        tables[table[:-4]] = pd.read_csv(f)\n",
    "        \n",
    "len(tables)"
   ]
  },
  {
   "cell_type": "code",
   "execution_count": 4,
   "metadata": {},
   "outputs": [
    {
     "name": "stdout",
     "output_type": "stream",
     "text": [
      "subjects  :  ['code', 'name', 'abbreviation']\n",
      "subject_memberships  :  ['subject_code', 'course_offering_uuid']\n",
      "rooms  :  ['uuid', 'facility_code', 'room_code']\n",
      "schedules  :  ['uuid', 'start_time', 'end_time', 'mon', 'tues', 'wed', 'thurs', 'fri', 'sat', 'sun']\n",
      "sections  :  ['uuid', 'course_offering_uuid', 'section_type', 'number', 'room_uuid', 'schedule_uuid']\n",
      "courses  :  ['uuid', 'name', 'number']\n",
      "course_offerings  :  ['uuid', 'course_uuid', 'term_code', 'name']\n",
      "instructors  :  ['id', 'name']\n",
      "teachings  :  ['instructor_id', 'section_uuid']\n",
      "grade_distributions  :  ['course_offering_uuid', 'section_number', 'a_count', 'ab_count', 'b_count', 'bc_count', 'c_count', 'd_count', 'f_count', 's_count', 'u_count', 'cr_count', 'n_count', 'p_count', 'i_count', 'nw_count', 'nr_count', 'other_count']\n"
     ]
    }
   ],
   "source": [
    "for table in tables.keys():\n",
    "    print(table, ' : ', list(tables[table].columns))"
   ]
  },
  {
   "cell_type": "code",
   "execution_count": 15,
   "metadata": {},
   "outputs": [
    {
     "data": {
      "text/plain": [
       "4d6a5df7-3427-3650-b946-ce5c616ff530    22\n",
       "8ca4cb82-0242-32e6-8206-b1f99ae17e84    22\n",
       "4590d10f-d7d6-333c-8b79-44ce35b33051    22\n",
       "1138ead6-bacb-302d-931a-bd2b4415c06c    22\n",
       "26093156-2a6b-34ff-b4fd-b7e47b18fbc7    22\n",
       "341c1321-f72a-3fce-8dd9-2f99884fef5f    22\n",
       "13da2ed6-f4cc-3d92-bab3-cb3a02c1bbfc    22\n",
       "836ed4e1-a900-3f19-8d5b-ce8f1e4fa8bc    22\n",
       "3b2fedd8-0705-3747-8276-8e098af899fe    22\n",
       "2997300e-efa3-3463-aedc-375f47959144    22\n",
       "e4884c26-a42a-3f14-8f08-bb325d9c0358    22\n",
       "0f714438-313d-3687-a92c-f12d65427c60    22\n",
       "0ce08969-507a-39b7-888f-4c253cebced9    22\n",
       "53225a2a-88ce-3ef5-b469-e92bdbc5a90b    22\n",
       "568800f7-0758-3a7f-8c83-3d29ebd58a44    22\n",
       "d193425d-2bf1-33f4-9e3e-978ee8d07e39    22\n",
       "8082de80-6263-347e-b7c0-7ccd3677d8b6    22\n",
       "143bacc0-719d-3522-a649-958e834bc456    22\n",
       "2a44f41b-75f0-315b-ab48-1570f161dd49    22\n",
       "d69e3a14-4e6b-332d-96c6-911d3dfc69a8    22\n",
       "ed57ad63-a33a-3d18-aa60-94a39594822b    22\n",
       "bffbcd70-d12d-31eb-b0d7-a3bda7f425f8    22\n",
       "ef810a32-9440-384b-bd01-6262253018ce    22\n",
       "7c604c54-f614-38a1-8925-256db8d37d89    22\n",
       "48bbf30c-868c-30c2-8de1-3f35bf1f1a67    22\n",
       "d935a5a8-906b-353b-ae7b-43aa11ab235f    22\n",
       "77b78416-682a-3414-b5c2-bf90fbe11d01    22\n",
       "b09d6895-c1aa-3bf6-a3fc-4f4598ecd577    22\n",
       "3a328245-8903-3711-84c0-8ff307aaf84a    22\n",
       "6171f9af-7442-3034-b992-1f39a7a8e982    22\n",
       "                                        ..\n",
       "02b5e45f-d22d-34f7-b8d0-560657d2203e     1\n",
       "23f3f08e-add2-33c9-bb27-5fb879b34a07     1\n",
       "f987fdae-e7d2-3ead-9e5c-f950d0bb8d32     1\n",
       "755955ec-b613-35f5-9ff9-00450dcc8366     1\n",
       "5d74a1e4-7ee9-351c-ab73-a8bcdd84a334     1\n",
       "7249f7f5-5d8c-3f4f-93a0-c57540a2e707     1\n",
       "c2d0ed72-5552-397d-9a23-38e19f364bd1     1\n",
       "de459eeb-3394-3385-95a2-8f7d873fa569     1\n",
       "28a74294-4b8a-307b-b057-a2502383e1de     1\n",
       "62b3e488-a3cc-387b-acfe-133c9831fab4     1\n",
       "80c9bce0-d0e2-3eda-88a8-2830d9da87dd     1\n",
       "8a5100ff-2aba-3e32-9aac-7a49ee29b089     1\n",
       "b122b63e-3816-31fb-b4ea-dab9750f4a57     1\n",
       "67740381-8dac-3596-8822-36c99792db17     1\n",
       "1d564fb6-bb9a-34da-9eab-e11a466c93ae     1\n",
       "2c36d508-14c6-3851-8435-1a4b4ef8b120     1\n",
       "340f8929-ef5b-32bb-ad46-85e25aec33f8     1\n",
       "a0cdc13a-27dd-319d-b2bf-5f8a7f3a24e6     1\n",
       "feba6b86-3c4c-3f0a-96bf-78cdab5ab732     1\n",
       "e8839fb9-58a8-3b83-8e00-4f4a5a629af3     1\n",
       "c314a1dd-cc36-3a44-9618-0df1e72da4f0     1\n",
       "2e58dfbe-e16d-3995-a6b1-bc24b5bca44b     1\n",
       "25c42a79-3769-3483-942b-3220757340a1     1\n",
       "35f8cd34-d968-3f06-9b19-5a0a997dbd2d     1\n",
       "8309c69d-2643-3657-834b-f96a0eeb7206     1\n",
       "c4e39f32-c166-33df-a280-c1bb0f0fc445     1\n",
       "e7220e1a-2c62-378d-be62-458a1d2e931e     1\n",
       "13450946-6605-301c-9a28-7af0a1862674     1\n",
       "d12f2f42-0539-39a9-b02d-58d59d511dc6     1\n",
       "ce904c3a-702d-3830-830a-30c465f5a97b     1\n",
       "Name: course_uuid, Length: 9306, dtype: int64"
      ]
     },
     "execution_count": 15,
     "metadata": {},
     "output_type": "execute_result"
    }
   ],
   "source": [
    "tables['course_offerings']['course_uuid'].value_counts()"
   ]
  },
  {
   "cell_type": "code",
   "execution_count": null,
   "metadata": {},
   "outputs": [],
   "source": [
    "df = tables['rooms']\n",
    "df['facility_code'].value_counts();"
   ]
  },
  {
   "cell_type": "code",
   "execution_count": 12,
   "metadata": {},
   "outputs": [
    {
     "data": {
      "text/plain": [
       "'INSERT INTO schedules VALUES (%s,%s,%s,%s,%s,%s,%s,%s,%s,%s)'"
      ]
     },
     "execution_count": 12,
     "metadata": {},
     "output_type": "execute_result"
    }
   ],
   "source": [
    "table = file_names[-7]\n",
    "num_cols = len(tables[table[:-4]].columns)\n",
    "cols = \"%s,\" * num_cols\n",
    "query = \"INSERT INTO \" + table[:-4] + \" VALUES (\" + cols[:-1] + \")\"\n",
    "query"
   ]
  },
  {
   "cell_type": "code",
   "execution_count": null,
   "metadata": {},
   "outputs": [],
   "source": [
    "# row = ['5716145', \"REMY FERNÁNDEZ-O'BRIEN\"]\n",
    "# for table in file_names:\n",
    "#     print(f\"{table[:-4]} has {len(tables[table[:-4]].columns)} columns\")\n",
    "#     query = f\"\"\"INSERT INTO {table[:-4]} VALUES {row}\"\"\"\n",
    "#     print(query)"
   ]
  },
  {
   "cell_type": "code",
   "execution_count": null,
   "metadata": {},
   "outputs": [],
   "source": [
    "# file_names[-3]\n",
    "# tables['instructors'].head()"
   ]
  },
  {
   "cell_type": "code",
   "execution_count": 14,
   "metadata": {},
   "outputs": [],
   "source": [
    "conn = psycopg2.connect(\"dbname=uw-grades\")\n",
    "cur = conn.cursor()\n",
    "\n",
    "for table in file_names[-3:-2]:\n",
    "    with open(table, 'r') as f:\n",
    "        num_cols = len(tables[table[:-4]].columns)\n",
    "        cols = \"%s,\" * num_cols\n",
    "        reader = csv.reader(f)\n",
    "        next(reader)  # Skip the header row.\n",
    "        for row in reader:\n",
    "            query = \"INSERT INTO \" + table[:-4] + \" VALUES (\" + cols[:-1] + \")\"\n",
    "            cur.execute(query, row)\n",
    "            \n",
    "    conn.commit()"
   ]
  },
  {
   "cell_type": "code",
   "execution_count": null,
   "metadata": {},
   "outputs": [],
   "source": [
    "conn = sqlite3.connect('database.sqlite3')\n",
    "conn.set_trace_callback(print)\n",
    "#conn.tables\n",
    "c = conn.cursor()\n",
    "test_table = 'teachings'\n",
    "query = \"\"\"SELECT sql FROM sql_master WHERE name = '\"\"\" + test_table + \"';\"\n",
    "c.execute(query)\n",
    "for _ in range(100):\n",
    "    print(next(c))"
   ]
  },
  {
   "cell_type": "code",
   "execution_count": null,
   "metadata": {},
   "outputs": [],
   "source": []
  }
 ],
 "metadata": {
  "kernelspec": {
   "display_name": "learn-env",
   "language": "python",
   "name": "learn-env"
  },
  "language_info": {
   "codemirror_mode": {
    "name": "ipython",
    "version": 3
   },
   "file_extension": ".py",
   "mimetype": "text/x-python",
   "name": "python",
   "nbconvert_exporter": "python",
   "pygments_lexer": "ipython3",
   "version": "3.7.3"
  }
 },
 "nbformat": 4,
 "nbformat_minor": 2
}
